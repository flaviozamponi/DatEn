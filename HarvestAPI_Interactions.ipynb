{
 "cells": [
  {
   "cell_type": "markdown",
   "metadata": {},
   "source": [
    "# Setup an account\n",
    "\n",
    "Get the tokens under:  \n",
    "https://help.getharvest.com/api-v2/authentication-api/authentication/authentication/\n",
    "\n",
    "\n",
    "## From manuals  \n",
    "https://help.getharvest.com/api-v2/projects-api/projects/task-assignments/  \n",
    "\n",
    "**Delete a task assignment**  \n",
    "Delete a task assignment. Deleting a task assignment is only possible if it has no time entries associated with it. Returns a 200 OK response code if the call succeeded.\"  \n",
    "\n",
    "**Update a task assignment**  \n",
    "Updates the specific task assignment by setting the values of the parameters passed. Any parameters not provided will be left unchanged. Returns a task assignment object and a 200 OK response code if the call succeeded.\"  \n",
    "\n",
    "**is_active** - boolean - Whether the task assignment is active or archived.\"\n",
    "\n",
    "Da https://help.getharvest.com/api-v2/projects-api/projects/projects/\n",
    "\n",
    "**Delete a project**  \n",
    "Deletes a project and any time entries or expenses tracked to it. However, invoices associated with the project will not be deleted. __If you don’t want the project’s time entries and expenses to be deleted, you should archive the project instead.__\"\n"
   ]
  },
  {
   "cell_type": "markdown",
   "metadata": {},
   "source": [
    "# Libraries & Functions\n",
    "\n",
    "***Important: run all cells until `2.1 Building DataFrames` included ***"
   ]
  },
  {
   "cell_type": "code",
   "execution_count": 1,
   "metadata": {
    "ExecuteTime": {
     "end_time": "2020-02-27T15:16:09.829897Z",
     "start_time": "2020-02-27T15:16:09.200626Z"
    }
   },
   "outputs": [],
   "source": [
    "import os\n",
    "import json\n",
    "import pandas as pd\n",
    "import requests"
   ]
  },
  {
   "cell_type": "code",
   "execution_count": 2,
   "metadata": {
    "ExecuteTime": {
     "end_time": "2020-02-27T15:16:09.837899Z",
     "start_time": "2020-02-27T15:16:09.831882Z"
    }
   },
   "outputs": [],
   "source": [
    "def retrievePage(whichData='projects',page=1,per_page=100):\n",
    "    '''\n",
    "    Retrieves the url with the headers dict using the authorization from\n",
    "    https://help.getharvest.com/api-v2/authentication-api/authentication/authentication/\n",
    "    \n",
    "    It takes:\n",
    "    whichData: it can be 'projects', 'tasks' or 'clients'\n",
    "    page: which page of the result is returned, if the number of entries is larger than\n",
    "        per_page\n",
    "    per_page: amount of entries per page, 1 <= per_page <= 100\n",
    "    \n",
    "    It returns:\n",
    "    a json object containing the retrieved data \n",
    "    \n",
    "    Example:\n",
    "    retrievePage('projects', page=2) # it retrieves the 2nd page of the project list\n",
    "    '''\n",
    "    url = 'https://api.harvestapp.com/v2/' + whichData\n",
    "\n",
    "    headers = {'User-Agent': 'MyApp (my.email@company.de)', # Use your Mail Address\n",
    "               'Authorization': 'Bearer 1234_mytoken', # Use your Token \n",
    "               'Harvest-Account-ID': '987654', # Use your Account-ID\n",
    "               'content-type': 'application/json'}\n",
    "    payload = {'per_page':str(per_page),'page':str(page)}\n",
    "    \n",
    "    r = requests.get(url=url, headers=headers, params=payload)\n",
    "    jsonResponse = r.json()\n",
    "    return jsonResponse"
   ]
  },
  {
   "cell_type": "code",
   "execution_count": 3,
   "metadata": {
    "ExecuteTime": {
     "end_time": "2020-02-27T15:16:09.848876Z",
     "start_time": "2020-02-27T15:16:09.839861Z"
    }
   },
   "outputs": [],
   "source": [
    "def createJsonDict_Projects(whichData='projects'):\n",
    "    '''\n",
    "    It loops over the received pages in json form, it merges the results and it\n",
    "    returns them. \n",
    "    It has to be used in combination with retrievePage(). \n",
    "    \n",
    "    It takes:\n",
    "    whichData: this function was specialized to work with projects but it can easily\n",
    "    generalized to deal also with 'task' or with 'clients' (you have mainly to adapt\n",
    "    which fields should be returned, in the inner loop)\n",
    "        \n",
    "    It returns:\n",
    "    an array of dicts with fields: ProjName, ClientName, ClientID, ProjID\n",
    "    '''\n",
    "    \n",
    "    # the output variable to the json array of ProjName, ClientName, ClientID, ProjID\n",
    "    csvOut=[]\n",
    "    # an empty call to retirieve page to infer how many entries and pages are available,\n",
    "    # in order to setup the variables totalPages, totalEntries, perPage\n",
    "    toExtract = retrievePage(whichData, page=1)\n",
    "    totalPages = toExtract['total_pages']\n",
    "    totalEntries = toExtract['total_entries']\n",
    "    perPage = toExtract['per_page']\n",
    "    \n",
    "    #outer for loop on the pages (by default are 100 entries per page)\n",
    "    for pg in range(1,totalPages+1):\n",
    "        jsonOut = retrievePage(whichData, page=pg)\n",
    "        # some calculations to know how many entries are in the page\n",
    "        # to be used in the inner loop\n",
    "        nrEntriesLeftOver = totalEntries - (pg-1)*perPage\n",
    "        if nrEntriesLeftOver > 100:\n",
    "            nrEntriesInLoop = 100\n",
    "        else:\n",
    "            nrEntriesInLoop = nrEntriesLeftOver\n",
    "        #print(pg,nrEntriesInLoop)\n",
    "        # loop over the entries in the page\n",
    "        for entry in range(nrEntriesInLoop):\n",
    "            temp = {}\n",
    "            temp['ProjName'] = jsonOut[whichData][entry]['name']\n",
    "            temp['ClientName'] = jsonOut[whichData][entry]['client']['name']\n",
    "            temp['ClientID'] = jsonOut[whichData][entry]['client']['id']\n",
    "            temp['ProjID'] = jsonOut[whichData][entry]['id']\n",
    "            csvOut.append(temp)\n",
    "    return csvOut"
   ]
  },
  {
   "cell_type": "code",
   "execution_count": 4,
   "metadata": {
    "ExecuteTime": {
     "end_time": "2020-02-27T15:16:09.860804Z",
     "start_time": "2020-02-27T15:16:09.851828Z"
    }
   },
   "outputs": [],
   "source": [
    "def createJsonDict_Clients(whichData='clients'):\n",
    "    '''\n",
    "    It loops over the received pages in json form, it merges the results and it\n",
    "    returns them. \n",
    "    It has to be used in combination with retrievePage(). \n",
    "    \n",
    "    It takes:\n",
    "    whichData: this function was specialized to work with clients but it can easily\n",
    "    generalized to deal also with 'task' or with 'projects' (you have mainly to adapt\n",
    "    which fields should be returned, in the inner loop)\n",
    "        \n",
    "    It returns:\n",
    "    an array of dicts with fields: ClientName, ClientID\n",
    "    '''\n",
    "    \n",
    "    csvOut=[]\n",
    "    toExtract = retrievePage(whichData, page=1)\n",
    "    totalPages = toExtract['total_pages']\n",
    "    totalEntries = toExtract['total_entries']\n",
    "    perPage = toExtract['per_page']\n",
    "    \n",
    "    for pg in range(1,totalPages+1):\n",
    "        jsonOut = retrievePage(whichData, page=pg)\n",
    "        nrEntriesLeftOver = totalEntries - (pg-1)*perPage\n",
    "        if nrEntriesLeftOver > 100:\n",
    "            nrEntriesInLoop = 100\n",
    "        else:\n",
    "            nrEntriesInLoop = nrEntriesLeftOver\n",
    "        #print(pg,nrEntriesInLoop)\n",
    "        for entry in range(nrEntriesInLoop):\n",
    "            temp = {}\n",
    "            temp['ClientName'] = jsonOut[whichData][entry]['name']\n",
    "            temp['ClientID'] = jsonOut[whichData][entry]['id']\n",
    "            csvOut.append(temp)\n",
    "    return csvOut"
   ]
  },
  {
   "cell_type": "code",
   "execution_count": 5,
   "metadata": {
    "ExecuteTime": {
     "end_time": "2020-02-27T15:16:09.870802Z",
     "start_time": "2020-02-27T15:16:09.862798Z"
    }
   },
   "outputs": [],
   "source": [
    "def createJsonDict_Tasks(whichData='tasks'):\n",
    "    '''\n",
    "    It loops over the received pages in json form, it merges the results and it\n",
    "    returns them. \n",
    "    It has to be used in combination with retrievePage(). \n",
    "    \n",
    "    It takes:\n",
    "    whichData: this function was specialized to work with tasks but it can easily\n",
    "    generalized to deal also with 'clients' or with 'projects' (you have mainly to adapt\n",
    "    which fields should be returned, in the inner loop)\n",
    "        \n",
    "    It returns:\n",
    "    an array of dicts with fields: TaskName, TaskID\n",
    "    '''\n",
    "    \n",
    "    csvOut=[]\n",
    "    toExtract = retrievePage(whichData, page=1)\n",
    "    totalPages = toExtract['total_pages']\n",
    "    totalEntries = toExtract['total_entries']\n",
    "    perPage = toExtract['per_page']\n",
    "    \n",
    "    for pg in range(1,totalPages+1):\n",
    "        jsonOut = retrievePage(whichData, page=pg)\n",
    "        nrEntriesLeftOver = totalEntries - (pg-1)*perPage\n",
    "        if nrEntriesLeftOver > 100:\n",
    "            nrEntriesInLoop = 100\n",
    "        else:\n",
    "            nrEntriesInLoop = nrEntriesLeftOver\n",
    "        #print(pg,nrEntriesInLoop)\n",
    "        for entry in range(nrEntriesInLoop):\n",
    "            temp = {}\n",
    "            temp['TaskName'] = jsonOut[whichData][entry]['name']\n",
    "            temp['TaskID'] = jsonOut[whichData][entry]['id']\n",
    "            csvOut.append(temp)\n",
    "    return csvOut"
   ]
  },
  {
   "cell_type": "code",
   "execution_count": 6,
   "metadata": {
    "ExecuteTime": {
     "end_time": "2020-02-27T15:16:09.885764Z",
     "start_time": "2020-02-27T15:16:09.872770Z"
    }
   },
   "outputs": [],
   "source": [
    "def retrievePageProjAssignment(UID,page=1,per_page=100):\n",
    "    '''\n",
    "    Retrieves the url with the headers dict using the authorization from\n",
    "    https://help.getharvest.com/api-v2/authentication-api/authentication/authentication/\n",
    "    \n",
    "    It takes:\n",
    "    UID: user ID \n",
    "    page: which page of the result is returned, if the number of entries is larger than\n",
    "        per_page\n",
    "    per_page: amount of entries per page, 1 <= per_page <= 100\n",
    "    \n",
    "    It returns:\n",
    "    a json object containing the User Project Assignments associated to the user\n",
    "    \n",
    "    Example:\n",
    "    retrievePage(1234567, page=2) # it retrieves the 2nd page of the project list\n",
    "    '''\n",
    "    url = 'https://api.harvestapp.com/v2/users/'+str(UID)+'/project_assignments'\n",
    "\n",
    "    headers = {'User-Agent': 'MyApp (my.email@company.de)', # Use your Mail Address\n",
    "               'Authorization': 'Bearer 1234_mytoken', # Use your Token \n",
    "               'Harvest-Account-ID': '987654', # Use your Account-ID\n",
    "               'content-type': 'application/json'}\n",
    "    payload = {'per_page':str(per_page),'page':str(page)}\n",
    "    \n",
    "    r = requests.get(url=url, headers=headers, params=payload)\n",
    "    jsonResponse = r.json()\n",
    "    #print(json.dumps(jsonResponse, sort_keys=True, indent=4))\n",
    "    return jsonResponse"
   ]
  },
  {
   "cell_type": "code",
   "execution_count": 7,
   "metadata": {
    "ExecuteTime": {
     "end_time": "2020-02-27T15:16:09.895735Z",
     "start_time": "2020-02-27T15:16:09.887729Z"
    }
   },
   "outputs": [],
   "source": [
    "def getListOfProjectsAssociatedWithPerson(UID):\n",
    "    '''\n",
    "    It loops over the received pages in json form, it merges the results and it\n",
    "    returns them. \n",
    "    It has to be used in combination with retrievePageProjAssignment(). \n",
    "    \n",
    "    It takes:\n",
    "    UID: the user ID (you have mainly to adapt\n",
    "    which fields should be returned, in the inner loop)\n",
    "        \n",
    "    It returns:\n",
    "    csvOut: the list of projects in which the user UID is involved\n",
    "    '''\n",
    "    \n",
    "    csvOut=[]\n",
    "    toExtract = retrievePageProjAssignment(UID, page=1)\n",
    "    totalPages = toExtract['total_pages']\n",
    "    totalEntries = toExtract['total_entries']\n",
    "    perPage = toExtract['per_page']\n",
    "    \n",
    "    for pg in range(1,totalPages+1):\n",
    "        jsonOut = retrievePageProjAssignment(UID, page=pg)\n",
    "        nrEntriesLeftOver = totalEntries - (pg-1)*perPage\n",
    "        if nrEntriesLeftOver > 100:\n",
    "            nrEntriesInLoop = 100\n",
    "        else:\n",
    "            nrEntriesInLoop = nrEntriesLeftOver\n",
    "        for entry in range(nrEntriesInLoop):\n",
    "            csvOut.append(jsonOut['project_assignments'][entry]['project']['id'])\n",
    "            \n",
    "    return csvOut"
   ]
  },
  {
   "cell_type": "code",
   "execution_count": 8,
   "metadata": {
    "ExecuteTime": {
     "end_time": "2020-02-27T15:16:09.905680Z",
     "start_time": "2020-02-27T15:16:09.898722Z"
    }
   },
   "outputs": [],
   "source": [
    "def getListOf_ProjectsAndProjAssign_AssociatedWithPerson(UID):\n",
    "    '''\n",
    "    It loops over the received pages in json form, it merges the results and it\n",
    "    returns them. \n",
    "    It has to be used in combination with retrievePageProjAssignment(). \n",
    "    \n",
    "    It takes:\n",
    "    UID: the user ID (you have mainly to adapt\n",
    "    which fields should be returned, in the inner loop)\n",
    "        \n",
    "    It returns:\n",
    "    csvOut: the list of projects in which the user UID is involved\n",
    "    '''\n",
    "    \n",
    "    csvOutProj=[]\n",
    "    csvOutProjAssign=[]\n",
    "    toExtract = retrievePageProjAssignment(UID, page=1)\n",
    "    totalPages = toExtract['total_pages']\n",
    "    totalEntries = toExtract['total_entries']\n",
    "    perPage = toExtract['per_page']\n",
    "    \n",
    "    for pg in range(1,totalPages+1):\n",
    "        jsonOut = retrievePageProjAssignment(UID, page=pg)\n",
    "        nrEntriesLeftOver = totalEntries - (pg-1)*perPage\n",
    "        if nrEntriesLeftOver > 100:\n",
    "            nrEntriesInLoop = 100\n",
    "        else:\n",
    "            nrEntriesInLoop = nrEntriesLeftOver\n",
    "        #print(pg,nrEntriesInLoop)\n",
    "        for entry in range(nrEntriesInLoop):\n",
    "            #print(jsonOut['project_assignments'][entry]['project']['id'])\n",
    "            csvOutProj.append(jsonOut['project_assignments'][entry]['project']['id'])\n",
    "            csvOutProjAssign.append(jsonOut['project_assignments'][entry]['id'])\n",
    "    return csvOutProj,csvOutProjAssign"
   ]
  },
  {
   "cell_type": "code",
   "execution_count": 9,
   "metadata": {
    "ExecuteTime": {
     "end_time": "2020-02-27T15:16:09.913687Z",
     "start_time": "2020-02-27T15:16:09.908674Z"
    }
   },
   "outputs": [],
   "source": [
    "def GetUserAssignment(jsonElement, UserID):\n",
    "    for i in jsonElement['user_assignments']:\n",
    "        temp = i['id']\n",
    "        if i['user']['id']==UserID:\n",
    "            break\n",
    "        else:\n",
    "            pass\n",
    "    return temp"
   ]
  },
  {
   "cell_type": "markdown",
   "metadata": {},
   "source": [
    "## Building DataFrames"
   ]
  },
  {
   "cell_type": "markdown",
   "metadata": {},
   "source": [
    "It retrieves all the **tasks**, **projects** and **clients** from the Harvest server.  \n",
    "It then converts the data into DataFrames"
   ]
  },
  {
   "cell_type": "code",
   "execution_count": 10,
   "metadata": {
    "ExecuteTime": {
     "end_time": "2020-02-27T15:16:30.124722Z",
     "start_time": "2020-02-27T15:16:09.915653Z"
    }
   },
   "outputs": [],
   "source": [
    "TasksDict = createJsonDict_Tasks()\n",
    "ProjectsDict = createJsonDict_Projects()\n",
    "ClientsDict = createJsonDict_Clients()"
   ]
  },
  {
   "cell_type": "code",
   "execution_count": 11,
   "metadata": {
    "ExecuteTime": {
     "end_time": "2020-02-27T15:16:30.136588Z",
     "start_time": "2020-02-27T15:16:30.126642Z"
    }
   },
   "outputs": [],
   "source": [
    "taskDf = pd.DataFrame(TasksDict)\n",
    "projDf = pd.DataFrame(ProjectsDict)\n",
    "clientDf = pd.DataFrame(ClientsDict)"
   ]
  },
  {
   "cell_type": "code",
   "execution_count": 12,
   "metadata": {
    "ExecuteTime": {
     "end_time": "2020-02-27T15:16:30.149552Z",
     "start_time": "2020-02-27T15:16:30.137585Z"
    }
   },
   "outputs": [
    {
     "data": {
      "text/plain": [
       "((160, 2), (2099, 4), (197, 2))"
      ]
     },
     "execution_count": 12,
     "metadata": {},
     "output_type": "execute_result"
    }
   ],
   "source": [
    "# taskDf.to_csv('ToRemoveTasks.csv')\n",
    "# clientDf.to_csv('ToRemoveClients.csv')\n",
    "taskDf.shape, projDf.shape, clientDf.shape"
   ]
  },
  {
   "cell_type": "code",
   "execution_count": 1,
   "metadata": {
    "ExecuteTime": {
     "end_time": "2020-02-27T15:16:30.167530Z",
     "start_time": "2020-02-27T15:16:30.151547Z"
    }
   },
   "outputs": [],
   "source": [
    "taskDf.head()"
   ]
  },
  {
   "cell_type": "code",
   "execution_count": 2,
   "metadata": {
    "ExecuteTime": {
     "end_time": "2020-02-27T15:16:30.176479Z",
     "start_time": "2020-02-27T15:16:30.168531Z"
    }
   },
   "outputs": [],
   "source": [
    "projDf.head()"
   ]
  },
  {
   "cell_type": "code",
   "execution_count": 3,
   "metadata": {
    "ExecuteTime": {
     "end_time": "2020-02-27T15:16:30.189445Z",
     "start_time": "2020-02-27T15:16:30.178474Z"
    }
   },
   "outputs": [],
   "source": [
    "clientDf.head(10)"
   ]
  },
  {
   "cell_type": "markdown",
   "metadata": {},
   "source": [
    "# Assign a new colleague to all projects of another colleague"
   ]
  },
  {
   "cell_type": "code",
   "execution_count": 16,
   "metadata": {
    "ExecuteTime": {
     "end_time": "2020-02-27T15:16:30.196458Z",
     "start_time": "2020-02-27T15:16:30.191439Z"
    }
   },
   "outputs": [],
   "source": [
    "ExistingColleaguesID = 2336517\n",
    "ColleagueID = '3153729'"
   ]
  },
  {
   "cell_type": "code",
   "execution_count": 17,
   "metadata": {
    "ExecuteTime": {
     "end_time": "2020-02-27T15:16:31.759514Z",
     "start_time": "2020-02-27T15:16:30.198419Z"
    }
   },
   "outputs": [],
   "source": [
    "ListOfProjects = getListOfProjectsAssociatedWithPerson(ExistingColleaguesID)"
   ]
  },
  {
   "cell_type": "code",
   "execution_count": 18,
   "metadata": {
    "ExecuteTime": {
     "end_time": "2020-02-27T15:16:31.766431Z",
     "start_time": "2020-02-27T15:16:31.761402Z"
    }
   },
   "outputs": [
    {
     "data": {
      "text/plain": [
       "49"
      ]
     },
     "execution_count": 18,
     "metadata": {},
     "output_type": "execute_result"
    }
   ],
   "source": [
    "len(ListOfProjects)"
   ]
  },
  {
   "cell_type": "code",
   "execution_count": 19,
   "metadata": {
    "ExecuteTime": {
     "end_time": "2020-02-27T15:16:31.774376Z",
     "start_time": "2020-02-27T15:16:31.768386Z"
    }
   },
   "outputs": [
    {
     "data": {
      "text/plain": [
       "[22269620, 22269043]"
      ]
     },
     "execution_count": 19,
     "metadata": {},
     "output_type": "execute_result"
    }
   ],
   "source": [
    "ListOfProjects[:2]"
   ]
  },
  {
   "cell_type": "code",
   "execution_count": 4,
   "metadata": {
    "ExecuteTime": {
     "end_time": "2020-02-27T15:17:02.345450Z",
     "start_time": "2020-02-27T15:16:31.782345Z"
    },
    "scrolled": true
   },
   "outputs": [],
   "source": [
    "allLog = []\n",
    "for n,i in enumerate(ListOfProjects):\n",
    "    print(n,i)\n",
    "    url = 'https://api.harvestapp.com/v2/projects/'+str(i)+'/user_assignments'\n",
    "\n",
    "    headers = {'User-Agent': 'MyApp (my.email@company.de)', # Use your Mail Address\n",
    "               'Authorization': 'Bearer 1234_mytoken', # Use your Token \n",
    "               'Harvest-Account-ID': '987654', # Use your Account-ID\n",
    "               'content-type': 'application/json'}\n",
    "    \n",
    "    payload = {'per_page':str(100),'page':str(1),'user_id':ColleagueID}#\n",
    "\n",
    "    r = requests.post(url=url, headers=headers, params=payload)\n",
    "    jsonResponse = r.json()\n",
    "    allLog.append(jsonResponse)\n",
    "\n"
   ]
  },
  {
   "cell_type": "markdown",
   "metadata": {},
   "source": [
    "# Delete all projects from the account of a colleague\n",
    "To delete Projects from an account you must know not only the ProjID but also the UserAssignmentID. This has the same mechanich as for \"Assign / remove to / from a colleague the Project Manager status\" (read that!).  \n",
    "\n",
    "    TL;DR  \n",
    "    This means that the very same project (with the same ProjectID) has different UserAssignmentIDs for different users (UserIDs)."
   ]
  },
  {
   "cell_type": "code",
   "execution_count": null,
   "metadata": {
    "ExecuteTime": {
     "end_time": "2020-01-31T07:15:26.279168Z",
     "start_time": "2020-01-31T07:15:26.277159Z"
    }
   },
   "outputs": [],
   "source": [
    "ColleagueIDWhoseProjectsIWillDelete = 1170159"
   ]
  },
  {
   "cell_type": "code",
   "execution_count": null,
   "metadata": {
    "ExecuteTime": {
     "end_time": "2020-01-31T07:15:28.408915Z",
     "start_time": "2020-01-31T07:15:27.243765Z"
    }
   },
   "outputs": [],
   "source": [
    "ListOfProjects = getListOfProjectsAssociatedWithPerson(ColleagueIDWhoseProjectsIWillDelete)"
   ]
  },
  {
   "cell_type": "code",
   "execution_count": null,
   "metadata": {
    "ExecuteTime": {
     "end_time": "2020-01-31T07:15:29.086819Z",
     "start_time": "2020-01-31T07:15:29.083673Z"
    }
   },
   "outputs": [],
   "source": [
    "len(ListOfProjects), ListOfProjects[:2]"
   ]
  },
  {
   "cell_type": "markdown",
   "metadata": {},
   "source": [
    "First collect for a certain ColleagueID the tuples `(ProjectID, UserAssignmentID)`"
   ]
  },
  {
   "cell_type": "code",
   "execution_count": null,
   "metadata": {
    "ExecuteTime": {
     "end_time": "2020-01-31T07:15:35.440732Z",
     "start_time": "2020-01-31T07:15:32.187342Z"
    },
    "scrolled": true
   },
   "outputs": [],
   "source": [
    "allLog = []\n",
    "Project_UserAssignment_Tuple = []\n",
    "for n,i in enumerate(ListOfProjects):\n",
    "    print(n,i)\n",
    "    url = 'https://api.harvestapp.com/v2/projects/'+str(i)+'/user_assignments'\n",
    "\n",
    "    headers = {'User-Agent': 'MyApp (my.email@company.de)', # Use your Mail Address\n",
    "               'Authorization': 'Bearer 1234_mytoken', # Use your Token \n",
    "               'Harvest-Account-ID': '987654', # Use your Account-ID\n",
    "               'content-type': 'application/json'}\n",
    "    payload = {'per_page':str(100),'page':str(1)}#\n",
    "\n",
    "    r = requests.get(url=url, headers=headers, params=payload)\n",
    "    jsonResponse = r.json()\n",
    "    allLog.append(jsonResponse)\n",
    "    \n",
    "\n",
    "    Project_UserAssignment_Tuple.append((i,GetUserAssignment(jsonResponse,ColleagueIDWhoseProjectsIWillDelete)))"
   ]
  },
  {
   "cell_type": "code",
   "execution_count": null,
   "metadata": {
    "ExecuteTime": {
     "end_time": "2020-01-30T15:04:42.522934Z",
     "start_time": "2020-01-30T15:04:42.515883Z"
    }
   },
   "outputs": [],
   "source": [
    "Project_UserAssignment_Tuple"
   ]
  },
  {
   "cell_type": "code",
   "execution_count": null,
   "metadata": {
    "ExecuteTime": {
     "end_time": "2020-01-31T07:11:24.462457Z",
     "start_time": "2020-01-31T07:11:24.418245Z"
    }
   },
   "outputs": [],
   "source": [
    "for a,b in Project_UserAssignment_Tuple:\n",
    "    print(a,b)"
   ]
  },
  {
   "cell_type": "markdown",
   "metadata": {},
   "source": [
    "And now for each pait `(ProjectID, UserAssignmentID)` we call a `delete`-command."
   ]
  },
  {
   "cell_type": "code",
   "execution_count": null,
   "metadata": {
    "ExecuteTime": {
     "end_time": "2020-01-31T07:15:53.839595Z",
     "start_time": "2020-01-31T07:15:50.892299Z"
    },
    "scrolled": true
   },
   "outputs": [],
   "source": [
    "allLog = []\n",
    "for projID, projAssID in Project_UserAssignment_Tuple:\n",
    "    print(projID,projAssID)\n",
    "    url = 'https://api.harvestapp.com/v2/projects/'+str(projID)+'/user_assignments/'+str(projAssID)\n",
    "\n",
    "    headers = {'User-Agent': 'MyApp (my.email@company.de)', # Use your Mail Address\n",
    "               'Authorization': 'Bearer 1234_mytoken', # Use your Token \n",
    "               'Harvest-Account-ID': '987654', # Use your Account-ID\n",
    "               'content-type': 'application/json'}\n",
    "\n",
    "    r = requests.delete(url=url, headers=headers) #, params=payload)\n",
    "    jsonResponse = r.json()\n",
    "    allLog.append(jsonResponse)\n",
    "    print(jsonResponse)"
   ]
  },
  {
   "cell_type": "markdown",
   "metadata": {},
   "source": [
    "# Assign / remove to / from a colleague the Project Manager status\n",
    "\n",
    "This is a bit more tricky than the rest...  \n",
    "Look at the manual: https://help.getharvest.com/api-v2/projects-api/projects/user-assignments/.  \n",
    "\n",
    "To begin with, set the `ExistingColleaguesID`, that is the person you are getting the list of projects from. _In principle it can be the same person._  \n",
    "Then we can start.\n",
    "\n",
    "* First get the list of user_assignments via `GET /v2/projects/{PROJECT_ID}/user_assignments`, taken from the paragraph \"List all user assignments for a specific project\".  \n",
    "* You get in response the list of people involved with this project, with their UserID and their UserAssignmentID. This means that the very same project (with the same ProjectID) has different UserAssignmentIDs for different users (UserIDs).  \n",
    "* In the JSON response pick the UserAssignmentID corresponding to the person you are looking for.  \n",
    "* From the paragraph \"Update a user assignment\" you can now update the status of the User by issuing `PATCH /v2/projects/{PROJECT_ID}/user_assignments/{USER_ASSIGNMENT_ID}` with `-d '{\"is_project_manager\":\"true\"}`. Note that this is possible because the status of the UserAssignmentID you are modifying refers **only** to the person with the UserID you have just found before.  \n",
    "* make a foor loop in which you search for the UserAssignmentIDs in the list of ProjectIDs and then you modify them.  "
   ]
  },
  {
   "cell_type": "code",
   "execution_count": null,
   "metadata": {},
   "outputs": [],
   "source": [
    "ExistingColleaguesID = 2079842"
   ]
  },
  {
   "cell_type": "code",
   "execution_count": null,
   "metadata": {},
   "outputs": [],
   "source": [
    "ListOfProjects = getListOfProjectsAssociatedWithPerson(ExistingColleaguesID)"
   ]
  },
  {
   "cell_type": "code",
   "execution_count": null,
   "metadata": {},
   "outputs": [],
   "source": [
    "len(ListOfProjects)"
   ]
  },
  {
   "cell_type": "markdown",
   "metadata": {},
   "source": [
    "This function gets the response from the server (in json form), looks for the `UserAssignmentID` corresponding to the `UserID` and returns it. "
   ]
  },
  {
   "cell_type": "code",
   "execution_count": null,
   "metadata": {},
   "outputs": [],
   "source": [
    "GetUserAssignment(jsonElement, UserID) # defined above"
   ]
  },
  {
   "cell_type": "markdown",
   "metadata": {},
   "source": [
    "Here I collect from the list of `ProjectsIDs` corresponding to the `ExistingColleaguesID` from which I want to copy.  \n",
    "I get a `Project_UserAssignment_Tuple`: each line has a `ProjectID` and the corresponding `UserAssignmentIDs`. The problem is now that I want only the `UserAssignmentID` that corresponds to the `ProjectID` (this is automatically set in the call to the server: I can ask only for one project) **and** `UserID` (the person I want to copy the privileges to). To this purpose I use the `GetUserAssignment()` function.  \n",
    "Given the response from the server, it selects only the `UserAssignmentIDs` corresponding to my `UserID`.  \n",
    "At the end, I have the `Project_UserAssignment_Tuple` ready for the next step"
   ]
  },
  {
   "cell_type": "code",
   "execution_count": null,
   "metadata": {
    "scrolled": true
   },
   "outputs": [],
   "source": [
    "allLog = []\n",
    "Project_UserAssignment_Tuple = []\n",
    "for n,i in enumerate(ListOfProjects):\n",
    "    print(n,i)\n",
    "    url = 'https://api.harvestapp.com/v2/projects/'+str(i)+'/user_assignments'\n",
    "\n",
    "    headers = {'User-Agent': 'MyApp (my.email@company.de)', # Use your Mail Address\n",
    "               'Authorization': 'Bearer 1234_mytoken', # Use your Token \n",
    "               'Harvest-Account-ID': '987654', # Use your Account-ID\n",
    "               'content-type': 'application/json'}\n",
    "    payload = {'per_page':str(100),'page':str(1)}#\n",
    "\n",
    "    r = requests.get(url=url, headers=headers, params=payload)\n",
    "    jsonResponse = r.json()\n",
    "    allLog.append(jsonResponse)\n",
    "    \n",
    "\n",
    "    Project_UserAssignment_Tuple.append((i,GetUserAssignment(jsonResponse,2079842)))"
   ]
  },
  {
   "cell_type": "markdown",
   "metadata": {},
   "source": [
    "The last step is the one in which we make the changes on the Harvest Server.  \n",
    "I iterate on the `Project_UserAssignment_Tuple` and I make calls to the server for the Project and the UserAssignment I'm interested in. The dictionary `data = {'is_project_manager':'true'}` sets the privileges I want to change.\n",
    "\n",
    "We are done!"
   ]
  },
  {
   "cell_type": "code",
   "execution_count": null,
   "metadata": {
    "scrolled": true
   },
   "outputs": [],
   "source": [
    "allLog2 = []\n",
    "for n,i in enumerate(Project_UserAssignment_Tuple):\n",
    "    print(n,i)\n",
    "    url = 'https://api.harvestapp.com/v2/projects/'+str(i[0])+'/user_assignments/'+str(i[1])\n",
    "\n",
    "    headers = {'User-Agent': 'MyApp (my.email@company.de)', # Use your Mail Address\n",
    "               'Authorization': 'Bearer 1234_mytoken', # Use your Token \n",
    "               'Harvest-Account-ID': '987654', # Use your Account-ID\n",
    "               'content-type': 'application/json'}\n",
    "    payload = {'per_page':str(100),'page':str(1)}#\n",
    "    data = {'is_project_manager':'true'}\n",
    "\n",
    "#     r = requests.get(url=url, headers=headers, params=payload)\n",
    "    r = requests.patch(url=url, headers=headers, params=data)#, params=payload)\n",
    "    jsonResponse = r.json()\n",
    "    allLog2.append(jsonResponse)\n",
    "\n"
   ]
  },
  {
   "cell_type": "markdown",
   "metadata": {},
   "source": [
    "# Small script to assign a new colleague to existing projects\n",
    "\n",
    "The program works as follows:  \n",
    "* Select which keyword you are looking in the DataFrame of Projects+Clients;   \n",
    "* Take the ProjectIDs of the Project-Client pairs that match the search \n",
    "* Iterate on the right url (https://api.harvestapp.com/v2/projects/'__XXX__'/user_assignments)"
   ]
  },
  {
   "cell_type": "code",
   "execution_count": null,
   "metadata": {
    "scrolled": true
   },
   "outputs": [],
   "source": [
    "projDf.loc[projDf.ProjName.str.contains('SMM - Blog'),'ProjID']"
   ]
  },
  {
   "cell_type": "code",
   "execution_count": null,
   "metadata": {
    "scrolled": true
   },
   "outputs": [],
   "source": [
    "allLog = []\n",
    "for n,i in enumerate(projDf.loc[projDf.ProjName.str.contains('SMM - Blog'),'ProjID']):\n",
    "    print(n)\n",
    "    url = 'https://api.harvestapp.com/v2/projects/'+str(i)+'/user_assignments'\n",
    "\n",
    "    headers = {'User-Agent': 'MyApp (my.email@company.de)', # Use your Mail Address\n",
    "               'Authorization': 'Bearer 1234_mytoken', # Use your Token \n",
    "               'Harvest-Account-ID': '987654', # Use your Account-ID\n",
    "               'content-type': 'application/json'}\n",
    "    payload = {'per_page':str(100),'page':str(1),'user_id':'2279908'}\n",
    "\n",
    "    r = requests.post(url=url, headers=headers, params=payload)\n",
    "    jsonResponse = r.json()\n",
    "    allLog.append(jsonResponse)\n"
   ]
  },
  {
   "cell_type": "code",
   "execution_count": null,
   "metadata": {},
   "outputs": [],
   "source": [
    "allLog"
   ]
  },
  {
   "cell_type": "markdown",
   "metadata": {},
   "source": [
    "## Functions for retrieving, modifying and adding a task assignment"
   ]
  },
  {
   "cell_type": "code",
   "execution_count": null,
   "metadata": {
    "ExecuteTime": {
     "end_time": "2019-07-04T14:07:24.946393Z",
     "start_time": "2019-07-04T14:07:24.933393Z"
    }
   },
   "outputs": [],
   "source": [
    "def RetrTaskAssignment(whichProjID,whichTaskID=None):\n",
    "    '''\n",
    "    A simplified version of retrievePage() specialized for retrieving the task assignments for a project. \n",
    "    CAVEAT: no effort has been undertaken to take care of the case where many pages (NrOfEntries > 100)\n",
    "    are returned\n",
    "    \n",
    "    It takes:\n",
    "    whichProjID: the project ID\n",
    "    whichTaskID: the assignment task ID. If None, then all the assignment tasks are retrieved\n",
    "    \n",
    "    It returns:\n",
    "    a json object containing the retrieved data.\n",
    "    \n",
    "    Example:\n",
    "    RetrTaskAssignment(1234567)\n",
    "    '''\n",
    "    if whichTaskID==None:\n",
    "        Url = 'https://api.harvestapp.com/v2/projects/'+str(whichProjID)+'/task_assignments'#/'+str(whichTaskID)\n",
    "    else:\n",
    "        Url = 'https://api.harvestapp.com/v2/projects/'+str(whichProjID)+'/task_assignments/'+str(whichTaskID)\n",
    "    Headers = {'User-Agent': 'MyApp (my.email@company.de)', # Use your Mail Address\n",
    "               'Authorization': 'Bearer 1234_mytoken', # Use your Token \n",
    "               'Harvest-Account-ID': '987654', # Use your Account-ID\n",
    "               'Content-type': 'application/json'}\n",
    "    Payload = {'task_id':str(whichTaskID),'is_active':'true','billable':'true',\n",
    "               'hourly_rate':'0.0'}\n",
    "    #return Url, Headers, Payload\n",
    "    r = requests.get(url=Url, headers=Headers)#,params=Payload)\n",
    "    jsonResponse = r.json()\n",
    "    return jsonResponse"
   ]
  },
  {
   "cell_type": "code",
   "execution_count": null,
   "metadata": {
    "ExecuteTime": {
     "end_time": "2019-07-04T14:07:25.676393Z",
     "start_time": "2019-07-04T14:07:25.662393Z"
    }
   },
   "outputs": [],
   "source": [
    "def AddTaskAssignment(whichProjID,taskIDtoBeAdded):\n",
    "    '''\n",
    "    A simplified version of retrievePage() specialized for retrieving the task assignments for a project. \n",
    "    CAVEAT: no effort has been undertaken to take care of the case where many pages (NrOfEntries > 100)\n",
    "    are returned\n",
    "    \n",
    "    It takes:\n",
    "    whichProjID: the project ID\n",
    "    whichTaskID: the assignment task ID. If None, then all the assignment tasks are retrieved\n",
    "    \n",
    "    It returns:\n",
    "    a json object containing the retrieved data.\n",
    "    \n",
    "    Example:\n",
    "    AddTaskAssignment(16747673,1232132)\n",
    "    '''\n",
    "    \n",
    "    Url = 'https://api.harvestapp.com/v2/projects/'+str(whichProjID)+'/task_assignments'\n",
    "    Headers = {'User-Agent': 'MyApp (my.email@company.de)', # Use your Mail Address\n",
    "               'Authorization': 'Bearer 1234_mytoken', # Use your Token \n",
    "               'Harvest-Account-ID': '987654', # Use your Account-ID\n",
    "               'Content-type': 'application/json'}\n",
    "    Payload = {'task_id':str(taskIDtoBeAdded),'is_active':'true','billable':'true',\n",
    "               'hourly_rate':'0.0'}\n",
    "    #return Url, Headers, Payload\n",
    "    r = requests.post(url=Url, headers=Headers, params=Payload)\n",
    "    jsonResponse = r.json()\n",
    "    return jsonResponse"
   ]
  },
  {
   "cell_type": "code",
   "execution_count": null,
   "metadata": {
    "ExecuteTime": {
     "end_time": "2019-07-04T14:07:26.248393Z",
     "start_time": "2019-07-04T14:07:26.229393Z"
    }
   },
   "outputs": [],
   "source": [
    "def createJsonDict_TasksAssignment(whichProjID):\n",
    "    '''\n",
    "    It loops over the received pages in json form, it merges the results and it\n",
    "    returns them. \n",
    "    It has to be used in combination with RetrTaskAssignment(). \n",
    "    \n",
    "    It takes:\n",
    "    whichProjID: the project ID\n",
    "    \n",
    "    It returns:\n",
    "    an array of dicts with fields: ProjectID, TaskAssignmentID,TaskName,TaskID.\n",
    "    \n",
    "    NB the **commented** code can be found in createJsonDict_Projects()\n",
    "    '''\n",
    "    \n",
    "    csvOut=[]\n",
    "    toExtract = RetrTaskAssignment(whichProjID)\n",
    "    totalPages = toExtract['total_pages']\n",
    "    totalEntries = toExtract['total_entries']\n",
    "    perPage = toExtract['per_page']\n",
    "    \n",
    "    for pg in range(1,totalPages+1):\n",
    "        jsonOut = RetrTaskAssignment(whichProjID)\n",
    "        nrEntriesLeftOver = totalEntries - (pg-1)*perPage\n",
    "        if nrEntriesLeftOver > 100:\n",
    "            nrEntriesInLoop = 100\n",
    "        else:\n",
    "            nrEntriesInLoop = nrEntriesLeftOver\n",
    "        #print(pg,nrEntriesInLoop)\n",
    "        for entry in range(nrEntriesInLoop):\n",
    "            temp = {}\n",
    "            temp['ProjectID'] = whichProjID\n",
    "            temp['TaskAssignmentID'] = jsonOut['task_assignments'][entry]['id']\n",
    "            temp['TaskName'] = jsonOut['task_assignments'][entry]['task']['name']\n",
    "            temp['TaskID'] = jsonOut['task_assignments'][entry]['task']['id']\n",
    "            csvOut.append(temp)\n",
    "    return csvOut"
   ]
  },
  {
   "cell_type": "code",
   "execution_count": null,
   "metadata": {
    "ExecuteTime": {
     "end_time": "2019-07-04T14:07:27.297393Z",
     "start_time": "2019-07-04T14:07:27.287393Z"
    }
   },
   "outputs": [],
   "source": [
    "def ArchiveTaskAssignment(whichProjID,whichTaskAssignmentID):\n",
    "    '''\n",
    "    The function archives the task assignment with whichTaskAssignmentID from the project with whichProjID.\n",
    "    In practice it sets the parameter 'is_active' to false\n",
    "    \n",
    "    It takes:\n",
    "    whichProjID: the project ID\n",
    "    whichTaskID: the assignment task ID. If None, then all the assignment tasks are retrieved\n",
    "    \n",
    "    It returns:\n",
    "    a json object containing the response from server.\n",
    "    \n",
    "    Example:\n",
    "    ArchiveTaskAssignment(123456,654321)\n",
    "    '''\n",
    "    Url = 'https://api.harvestapp.com/v2/projects/'+str(whichProjID)+'/task_assignments/'+str(whichTaskAssignmentID)\n",
    "    headers = {'User-Agent': 'MyApp (my.email@company.de)', # Use your Mail Address\n",
    "               'Authorization': 'Bearer 1234_mytoken', # Use your Token \n",
    "               'Harvest-Account-ID': '987654', # Use your Account-ID\n",
    "               'content-type': 'application/json'}\n",
    "    Payload = {'is_active':'false'}\n",
    "\n",
    "    r = requests.patch(url=Url, headers=Headers, params=Payload)\n",
    "    jsonResponse = r.json()\n",
    "    return jsonResponse"
   ]
  },
  {
   "cell_type": "code",
   "execution_count": null,
   "metadata": {},
   "outputs": [],
   "source": [
    "testDf = pd.DataFrame(createJsonDict_TasksAssignment(16799525))"
   ]
  },
  {
   "cell_type": "code",
   "execution_count": null,
   "metadata": {},
   "outputs": [],
   "source": [
    "testDf"
   ]
  },
  {
   "cell_type": "code",
   "execution_count": null,
   "metadata": {},
   "outputs": [],
   "source": [
    "TaskAssToErase_seoTextInt = testDf[testDf.TaskName == 'SEO Texte intern'].TaskAssignmentID.values[0]\n",
    "TaskAssToErase_richContInt = testDf[testDf.TaskName == 'Rich Content intern'].TaskAssignmentID.values[0]  \n",
    "TaskAssToErase_seoTextInt, TaskAssToErase_richContInt"
   ]
  },
  {
   "cell_type": "code",
   "execution_count": null,
   "metadata": {},
   "outputs": [],
   "source": [
    "ArchiveTaskAssignment(16799525,TaskAssToErase_seoTextInt)"
   ]
  },
  {
   "cell_type": "code",
   "execution_count": null,
   "metadata": {},
   "outputs": [],
   "source": [
    "ArchiveTaskAssignment(16799525,TaskAssToErase_richContInt)"
   ]
  },
  {
   "cell_type": "markdown",
   "metadata": {},
   "source": [
    "## Adding tasks to selected Projects\n",
    "In this case search all projects containing 'SEO - CONTENT' in ProjName and add to those the three tasks below:  \n",
    "* 12425833\tTextverlängerung\n",
    "* 12425832\tTextanpassung\n",
    "* 12425824\tTextkürzung\n",
    "\n",
    "Some trivial aspects:\n",
    "This function **connects** existing Tasks to existing Projects --> If the Task doesn't exist, you have to first create it.  \n",
    "The function needs both the TaskID and the ProjectID to establish the connection.  \n",
    "Please note that it uses some standard settings:  \n",
    "* 'is_active':'true'  \n",
    "* 'billable':'true'  \n",
    "* 'hourly_rate':'0.0'  \n",
    "If some of them do not fit your needs you have to change them"
   ]
  },
  {
   "cell_type": "code",
   "execution_count": null,
   "metadata": {
    "ExecuteTime": {
     "end_time": "2019-07-04T14:32:30.121393Z",
     "start_time": "2019-07-04T14:32:30.091393Z"
    },
    "scrolled": true
   },
   "outputs": [],
   "source": [
    "projDf"
   ]
  },
  {
   "cell_type": "code",
   "execution_count": null,
   "metadata": {
    "ExecuteTime": {
     "end_time": "2019-07-04T14:34:21.973393Z",
     "start_time": "2019-07-04T14:32:36.988393Z"
    }
   },
   "outputs": [],
   "source": [
    "for entry in range(len(projDf)):\n",
    "    if projDf.loc[entry,'ProjName']=='SEO - Content': #search the projects with 'SEO - Content' in the name\n",
    "        tempProjectID = projDf.loc[entry,'ProjID'] # take the ID of the project\n",
    "        print(entry,tempProjectID)\n",
    "        AddTaskAssignment(tempProjectID,5011801) \n",
    "#         AddTaskAssignment(tempProjectID,12425833) #Textverlängerung\n",
    "#         AddTaskAssignment(tempProjectID,12425832) #Textanpassung\n",
    "#         AddTaskAssignment(tempProjectID,12425824) #Textkürzung\n",
    "        "
   ]
  }
 ],
 "metadata": {
  "hide_input": false,
  "kernelspec": {
   "display_name": "Python 3",
   "language": "python",
   "name": "python3"
  },
  "language_info": {
   "codemirror_mode": {
    "name": "ipython",
    "version": 3
   },
   "file_extension": ".py",
   "mimetype": "text/x-python",
   "name": "python",
   "nbconvert_exporter": "python",
   "pygments_lexer": "ipython3",
   "version": "3.6.9"
  },
  "toc": {
   "base_numbering": 1,
   "nav_menu": {},
   "number_sections": true,
   "sideBar": true,
   "skip_h1_title": false,
   "title_cell": "Table of Contents",
   "title_sidebar": "Contents",
   "toc_cell": false,
   "toc_position": {
    "height": "calc(100% - 180px)",
    "left": "10px",
    "top": "150px",
    "width": "310px"
   },
   "toc_section_display": true,
   "toc_window_display": true
  },
  "varInspector": {
   "cols": {
    "lenName": 16,
    "lenType": 16,
    "lenVar": 40
   },
   "kernels_config": {
    "python": {
     "delete_cmd_postfix": "",
     "delete_cmd_prefix": "del ",
     "library": "var_list.py",
     "varRefreshCmd": "print(var_dic_list())"
    },
    "r": {
     "delete_cmd_postfix": ") ",
     "delete_cmd_prefix": "rm(",
     "library": "var_list.r",
     "varRefreshCmd": "cat(var_dic_list()) "
    }
   },
   "types_to_exclude": [
    "module",
    "function",
    "builtin_function_or_method",
    "instance",
    "_Feature"
   ],
   "window_display": false
  }
 },
 "nbformat": 4,
 "nbformat_minor": 2
}
